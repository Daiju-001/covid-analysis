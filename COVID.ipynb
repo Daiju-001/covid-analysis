{
 "cells": [
  {
   "cell_type": "code",
   "execution_count": 2,
   "id": "ad84353d",
   "metadata": {},
   "outputs": [
    {
     "data": {
      "text/html": [
       "\n",
       "        <div>\n",
       "            <p><b>SparkContext</b></p>\n",
       "\n",
       "            <p><a href=\"http://Soumen:4040\">Spark UI</a></p>\n",
       "\n",
       "            <dl>\n",
       "              <dt>Version</dt>\n",
       "                <dd><code>v3.1.2</code></dd>\n",
       "              <dt>Master</dt>\n",
       "                <dd><code>local</code></dd>\n",
       "              <dt>AppName</dt>\n",
       "                <dd><code>csv</code></dd>\n",
       "            </dl>\n",
       "        </div>\n",
       "        "
      ],
      "text/plain": [
       "<SparkContext master=local appName=csv>"
      ]
     },
     "execution_count": 2,
     "metadata": {},
     "output_type": "execute_result"
    }
   ],
   "source": [
    "from pyspark.sql import SparkSession\n",
    "spark = SparkSession.builder.appName('csv').master(\"local\").getOrCreate()\n",
    "sc = spark.sparkContext\n",
    "sc"
   ]
  },
  {
   "cell_type": "code",
   "execution_count": 3,
   "id": "3954f62e",
   "metadata": {},
   "outputs": [
    {
     "name": "stdout",
     "output_type": "stream",
     "text": [
      "root\n",
      " |-- Sno: string (nullable = true)\n",
      " |-- Date: string (nullable = true)\n",
      " |-- Time: string (nullable = true)\n",
      " |-- State/UnionTerritory: string (nullable = true)\n",
      " |-- ConfirmedIndianNational: string (nullable = true)\n",
      " |-- ConfirmedForeignNational: string (nullable = true)\n",
      " |-- Cured: string (nullable = true)\n",
      " |-- Deaths: string (nullable = true)\n",
      " |-- Confirmed: string (nullable = true)\n",
      "\n",
      "+---+----------+-------+--------------------+-----------------------+------------------------+-----+------+---------+\n",
      "|Sno|      Date|   Time|State/UnionTerritory|ConfirmedIndianNational|ConfirmedForeignNational|Cured|Deaths|Confirmed|\n",
      "+---+----------+-------+--------------------+-----------------------+------------------------+-----+------+---------+\n",
      "|  1|2020-01-30|6:00 PM|              Kerala|                      1|                       0|    0|     0|        1|\n",
      "|  2|2020-01-31|6:00 PM|              Kerala|                      1|                       0|    0|     0|        1|\n",
      "|  3|2020-02-01|6:00 PM|              Kerala|                      2|                       0|    0|     0|        2|\n",
      "|  4|2020-02-02|6:00 PM|              Kerala|                      3|                       0|    0|     0|        3|\n",
      "|  5|2020-02-03|6:00 PM|              Kerala|                      3|                       0|    0|     0|        3|\n",
      "+---+----------+-------+--------------------+-----------------------+------------------------+-----+------+---------+\n",
      "only showing top 5 rows\n",
      "\n"
     ]
    },
    {
     "data": {
      "text/plain": [
       "17786"
      ]
     },
     "execution_count": 3,
     "metadata": {},
     "output_type": "execute_result"
    }
   ],
   "source": [
    "df = spark.read.format(\"csv\").option(\"header\",\"true\").load(\"D:\\Downloads\\covid\\covid_19_india.csv\")\n",
    "df.printSchema()\n",
    "df.show(5)\n",
    "df.count()"
   ]
  },
  {
   "cell_type": "code",
   "execution_count": 4,
   "id": "dc81fd4c",
   "metadata": {},
   "outputs": [
    {
     "name": "stdout",
     "output_type": "stream",
     "text": [
      "+-----+----------+--------------------+------+\n",
      "|Sno  |Date      |State/UnionTerritory|Deaths|\n",
      "+-----+----------+--------------------+------+\n",
      "|15997|2021-06-14|Gujarat             |9997  |\n",
      "|14041|2021-04-20|Uttar Pradesh       |9997  |\n",
      "|10586|2021-01-14|West Bengal         |9993  |\n",
      "|15961|2021-06-13|Gujarat             |9991  |\n",
      "|9330 |2020-12-11|Assam               |999   |\n",
      "+-----+----------+--------------------+------+\n",
      "only showing top 5 rows\n",
      "\n"
     ]
    }
   ],
   "source": [
    "df_Deaths = df.select(\"Sno\",\"Date\",\"State/UnionTerritory\",\"Deaths\")#making separate death dataframe\n",
    "\n",
    "df_Deaths.sort(df.Deaths.desc()).show(5,truncate=False) #Showing States and Dates with highest deaths during Covid"
   ]
  },
  {
   "cell_type": "code",
   "execution_count": 5,
   "id": "d5de5792",
   "metadata": {
    "scrolled": true
   },
   "outputs": [
    {
     "name": "stdout",
     "output_type": "stream",
     "text": [
      "+-----+----------+--------------------+------+\n",
      "|Sno  |Date      |State/UnionTerritory|Cured |\n",
      "+-----+----------+--------------------+------+\n",
      "|13878|2021-04-16|Karnataka           |999958|\n",
      "|8291 |2020-11-11|Jharkhand           |99988 |\n",
      "|17481|2021-07-25|Lakshadweep         |9997  |\n",
      "|3277 |2020-06-21|Uttar Pradesh       |9995  |\n",
      "|6138 |2020-09-10|Tripura             |9993  |\n",
      "+-----+----------+--------------------+------+\n",
      "only showing top 5 rows\n",
      "\n"
     ]
    }
   ],
   "source": [
    "df_cured = df.select(\"Sno\",\"Date\",\"State/UnionTerritory\",\"Cured\") #making separate cured dataframe\n",
    "\n",
    "df_cured.sort(df.Cured.desc()).show(5,truncate=False)# showing states and dates with highest cured rate"
   ]
  },
  {
   "cell_type": "code",
   "execution_count": 6,
   "id": "0645c399",
   "metadata": {},
   "outputs": [
    {
     "name": "stdout",
     "output_type": "stream",
     "text": [
      "+---+----------+--------------------+---------+\n",
      "|Sno|Date      |State/UnionTerritory|Confirmed|\n",
      "+---+----------+--------------------+---------+\n",
      "|1  |2020-01-30|Kerala              |1        |\n",
      "+---+----------+--------------------+---------+\n",
      "\n",
      "+-----+----------+----------------------------------------+---------+\n",
      "|Sno  |Date      |State/UnionTerritory                    |Confirmed|\n",
      "+-----+----------+----------------------------------------+---------+\n",
      "|16569|2021-06-30|Chhattisgarh                            |994077   |\n",
      "|16581|2021-06-30|Lakshadweep                             |9742     |\n",
      "|16591|2021-06-30|Rajasthan                               |952322   |\n",
      "|16588|2021-06-30|Odisha                                  |906429   |\n",
      "|16573|2021-06-30|Gujarat                                 |823433   |\n",
      "|16582|2021-06-30|Madhya Pradesh                          |789771   |\n",
      "|16574|2021-06-30|Haryana                                 |768552   |\n",
      "|16563|2021-06-30|Andaman and Nicobar Islands             |7466     |\n",
      "|16567|2021-06-30|Bihar                                   |721654   |\n",
      "|16584|2021-06-30|Manipur                                 |69198    |\n",
      "|16595|2021-06-30|Tripura                                 |65770    |\n",
      "|16594|2021-06-30|Telangana                               |622593   |\n",
      "|16568|2021-06-30|Chandigarh                              |61656    |\n",
      "|16583|2021-06-30|Maharashtra                             |6051633  |\n",
      "|16590|2021-06-30|Punjab                                  |595351   |\n",
      "|16566|2021-06-30|Assam                                   |506005   |\n",
      "|16585|2021-06-30|Meghalaya                               |49161    |\n",
      "|16565|2021-06-30|Arunachal Pradesh                       |35571    |\n",
      "|16577|2021-06-30|Jharkhand                               |345525   |\n",
      "|16596|2021-06-30|Uttarakhand                             |339933   |\n",
      "|16576|2021-06-30|Jammu and Kashmir                       |315298   |\n",
      "|16579|2021-06-30|Kerala                                  |2910507  |\n",
      "|16578|2021-06-30|Karnataka                               |2840428  |\n",
      "|16587|2021-06-30|Nagaland                                |25111    |\n",
      "|16593|2021-06-30|Tamil Nadu                              |2475190  |\n",
      "|16592|2021-06-30|Sikkim                                  |20324    |\n",
      "|16575|2021-06-30|Himachal Pradesh                        |201980   |\n",
      "|16586|2021-06-30|Mizoram                                 |20075    |\n",
      "|16580|2021-06-30|Ladakh                                  |20038    |\n",
      "|16564|2021-06-30|Andhra Pradesh                          |1885716  |\n",
      "|16597|2021-06-30|Uttar Pradesh                           |1705951  |\n",
      "|16572|2021-06-30|Goa                                     |166449   |\n",
      "|16598|2021-06-30|West Bengal                             |1498305  |\n",
      "|16571|2021-06-30|Delhi                                   |1434094  |\n",
      "|16589|2021-06-30|Puducherry                              |116985   |\n",
      "|16570|2021-06-30|Dadra and Nagar Haveli and Daman and Diu|10555    |\n",
      "+-----+----------+----------------------------------------+---------+\n",
      "\n",
      "+-----+----------+----------------------------------------+---------+\n",
      "|Sno  |Date      |State/UnionTerritory                    |Confirmed|\n",
      "+-----+----------+----------------------------------------+---------+\n",
      "|11145|2021-01-30|Ladakh                                  |9714     |\n",
      "|11160|2021-01-30|Uttarakhand                             |95986    |\n",
      "|11142|2021-01-30|Karnataka                               |938401   |\n",
      "|11143|2021-01-30|Kerala                                  |917630   |\n",
      "|11127|2021-01-30|Andhra Pradesh                          |887591   |\n",
      "|11157|2021-01-30|Tamil Nadu                              |837327   |\n",
      "|11144|2021-01-30|Lakshadweep                             |70       |\n",
      "|11135|2021-01-30|Delhi                                   |634773   |\n",
      "|11156|2021-01-30|Sikkim                                  |6085     |\n",
      "|11161|2021-01-30|Uttar Pradesh                           |599837   |\n",
      "|11139|2021-01-30|Himachal Pradesh                        |57400    |\n",
      "|11162|2021-01-30|West Bengal                             |569459   |\n",
      "|11136|2021-01-30|Goa                                     |53263    |\n",
      "|11128|2021-01-30|Andaman and Nicobar Islands             |4994     |\n",
      "|11150|2021-01-30|Mizoram                                 |4366     |\n",
      "|11153|2021-01-30|Puducherry                              |39004    |\n",
      "|11134|2021-01-30|Dadra and Nagar Haveli and Daman and Diu|3398     |\n",
      "|11152|2021-01-30|Odisha                                  |334850   |\n",
      "|11159|2021-01-30|Tripura                                 |33350    |\n",
      "|11155|2021-01-30|Rajasthan                               |317292   |\n",
      "|11133|2021-01-30|Chhattisgarh                            |304689   |\n",
      "|11158|2021-01-30|Telengana                               |294306   |\n",
      "|11148|2021-01-30|Manipur                                 |29037    |\n",
      "|11138|2021-01-30|Haryana                                 |267708   |\n",
      "|11137|2021-01-30|Gujarat                                 |260901   |\n",
      "|11131|2021-01-30|Bihar                                   |259373   |\n",
      "|11146|2021-01-30|Madhya Pradesh                          |254667   |\n",
      "|11130|2021-01-30|Assam                                   |217091   |\n",
      "|11132|2021-01-30|Chandigarh                              |20882    |\n",
      "|11147|2021-01-30|Maharashtra                             |2021184  |\n",
      "|11154|2021-01-30|Punjab                                  |172860   |\n",
      "|11129|2021-01-30|Arunachal Pradesh                       |16827    |\n",
      "|11149|2021-01-30|Meghalaya                               |13753    |\n",
      "|11140|2021-01-30|Jammu and Kashmir                       |124373   |\n",
      "|11151|2021-01-30|Nagaland                                |12088    |\n",
      "|11141|2021-01-30|Jharkhand                               |118602   |\n",
      "+-----+----------+----------------------------------------+---------+\n",
      "\n",
      "+-----+----------+----------------------------------------+---------+\n",
      "|Sno  |Date      |State/UnionTerritory                    |Confirmed|\n",
      "+-----+----------+----------------------------------------+---------+\n",
      "|16569|2021-06-30|Chhattisgarh                            |994077   |\n",
      "|16581|2021-06-30|Lakshadweep                             |9742     |\n",
      "|16591|2021-06-30|Rajasthan                               |952322   |\n",
      "|16588|2021-06-30|Odisha                                  |906429   |\n",
      "|16573|2021-06-30|Gujarat                                 |823433   |\n",
      "|16582|2021-06-30|Madhya Pradesh                          |789771   |\n",
      "|16574|2021-06-30|Haryana                                 |768552   |\n",
      "|16563|2021-06-30|Andaman and Nicobar Islands             |7466     |\n",
      "|16567|2021-06-30|Bihar                                   |721654   |\n",
      "|16584|2021-06-30|Manipur                                 |69198    |\n",
      "|16595|2021-06-30|Tripura                                 |65770    |\n",
      "|16594|2021-06-30|Telangana                               |622593   |\n",
      "|16568|2021-06-30|Chandigarh                              |61656    |\n",
      "|16583|2021-06-30|Maharashtra                             |6051633  |\n",
      "|16590|2021-06-30|Punjab                                  |595351   |\n",
      "|16566|2021-06-30|Assam                                   |506005   |\n",
      "|16585|2021-06-30|Meghalaya                               |49161    |\n",
      "|16565|2021-06-30|Arunachal Pradesh                       |35571    |\n",
      "|16577|2021-06-30|Jharkhand                               |345525   |\n",
      "|16596|2021-06-30|Uttarakhand                             |339933   |\n",
      "|16576|2021-06-30|Jammu and Kashmir                       |315298   |\n",
      "|16579|2021-06-30|Kerala                                  |2910507  |\n",
      "|16578|2021-06-30|Karnataka                               |2840428  |\n",
      "|16587|2021-06-30|Nagaland                                |25111    |\n",
      "|16593|2021-06-30|Tamil Nadu                              |2475190  |\n",
      "|16592|2021-06-30|Sikkim                                  |20324    |\n",
      "|16575|2021-06-30|Himachal Pradesh                        |201980   |\n",
      "|16586|2021-06-30|Mizoram                                 |20075    |\n",
      "|16580|2021-06-30|Ladakh                                  |20038    |\n",
      "|16564|2021-06-30|Andhra Pradesh                          |1885716  |\n",
      "|16597|2021-06-30|Uttar Pradesh                           |1705951  |\n",
      "|16572|2021-06-30|Goa                                     |166449   |\n",
      "|16598|2021-06-30|West Bengal                             |1498305  |\n",
      "|16571|2021-06-30|Delhi                                   |1434094  |\n",
      "|16589|2021-06-30|Puducherry                              |116985   |\n",
      "|16570|2021-06-30|Dadra and Nagar Haveli and Daman and Diu|10555    |\n",
      "+-----+----------+----------------------------------------+---------+\n",
      "\n"
     ]
    }
   ],
   "source": [
    "df_confirmed = df.select(\"Sno\",\"Date\",\"State/UnionTerritory\",\"Confirmed\") #making separate Confirmed Dataframe\n",
    "\n",
    "df_confirmed.sort(df.Confirmed.desc()).filter(df.Date == \"2020-01-30\").show(100,truncate=False)\n",
    "\n",
    "df_confirmed.sort(df.Confirmed.desc()).filter(df.Date == \"2021-06-30\").show(100,truncate=False)\n",
    "\n",
    "df_confirmed.sort(df.Confirmed.desc()).filter(df.Date == \"2021-01-30\").show(100,truncate=False)\n",
    "\n",
    "df_confirmed.sort(df.Confirmed.desc()).filter(df.Date == \"2021-06-30\").show(100,truncate=False)\n",
    "\n",
    "            #showing confirmed cases on a particular date with 6 months interval"
   ]
  }
 ],
 "metadata": {
  "kernelspec": {
   "display_name": "Python 3",
   "language": "python",
   "name": "python3"
  },
  "language_info": {
   "codemirror_mode": {
    "name": "ipython",
    "version": 3
   },
   "file_extension": ".py",
   "mimetype": "text/x-python",
   "name": "python",
   "nbconvert_exporter": "python",
   "pygments_lexer": "ipython3",
   "version": "3.8.8"
  }
 },
 "nbformat": 4,
 "nbformat_minor": 5
}
